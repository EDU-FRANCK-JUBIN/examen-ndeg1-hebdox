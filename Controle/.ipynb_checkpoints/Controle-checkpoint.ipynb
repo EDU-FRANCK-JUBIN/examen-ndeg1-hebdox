{
 "cells": [
  {
   "cell_type": "code",
   "execution_count": null,
   "metadata": {},
   "outputs": [],
   "source": []
  },
  {
   "cell_type": "markdown",
   "metadata": {},
   "source": [
    "# Exercice tortues"
   ]
  },
  {
   "cell_type": "code",
   "execution_count": 1,
   "metadata": {
    "scrolled": true
   },
   "outputs": [],
   "source": [
    "import turtle as tu\n",
    "from random import *\n",
    "from turtle import Screen\n",
    "screen = Screen()\n",
    "\n",
    "TURTLE_SIZE = 20\n",
    "\n",
    "\n",
    "Michelangelo = tu.Turtle()\n",
    "Michelangelo.color(\"Orange\")\n",
    "Leonardo = tu.Turtle()\n",
    "Leonardo.color(\"Blue\")\n",
    "Raphael = tu.Turtle()\n",
    "Raphael.color(\"Red\")\n",
    "Splinter = tu.Turtle()\n",
    "Splinter.color(\"Grey\")\n",
    "Donatello = tu.Turtle()\n",
    "Donatello.color(\"Purple\")\n",
    "\n",
    "Michelangelo.penup()\n",
    "Leonardo.penup()\n",
    "Raphael.penup()\n",
    "Splinter.penup()\n",
    "Donatello.penup()\n",
    "\n",
    "Michelangelo.goto(TURTLE_SIZE/2 - screen.window_width()/2, 60)\n",
    "Leonardo.goto(TURTLE_SIZE/2 - screen.window_width()/2, 30)\n",
    "Raphael.goto(TURTLE_SIZE/2 - screen.window_width()/2, 0)\n",
    "Splinter.goto(TURTLE_SIZE/2 - screen.window_width()/2, -30)\n",
    "Donatello.goto(TURTLE_SIZE/2 - screen.window_width()/2, -60)\n",
    "\n",
    "Michelangelo.pendown()\n",
    "Leonardo.pendown()\n",
    "Raphael.pendown()\n",
    "Splinter.pendown()\n",
    "Donatello.pendown()\n"
   ]
  },
  {
   "cell_type": "markdown",
   "metadata": {},
   "source": [
    "## Demander à l'utilisateur son pronostique des deux joueurs"
   ]
  },
  {
   "cell_type": "code",
   "execution_count": 2,
   "metadata": {},
   "outputs": [
    {
     "name": "stdout",
     "output_type": "stream",
     "text": [
      "1: Michelangelo \n",
      "\n",
      "2: Leonardo \n",
      "\n",
      "3: Raphael \n",
      "\n",
      "4: Splinter \n",
      "\n",
      "5: Donatello \n",
      "\n"
     ]
    }
   ],
   "source": [
    "print(\"1: Michelangelo \\n\")\n",
    "print(\"2: Leonardo \\n\")\n",
    "print(\"3: Raphael \\n\")\n",
    "print(\"4: Splinter \\n\")\n",
    "print(\"5: Donatello \\n\")\n",
    "\n",
    "# PronostiqueJ1 = input(\"Entez votre pronostique sous la forme 1,2,3,4 pour les tortues (j1) : \")\n",
    "# PronostiqueJ1 = input(\"Entez votre pronostique sous la forme 1,2,3,4 pour les tortues (j2) : \")"
   ]
  },
  {
   "cell_type": "markdown",
   "metadata": {},
   "source": [
    " ## A l'aide d'une boucle while, faire courir les tortues en tirant un nombre entre 0 et 5 qui représente le nombre de pixels du déplacement vers la droite, jusqu’à ce que la dernière tortue ait passée la ligne d’arrivée au pixel 1380 (à remettre dans le contexte d’origine de 0,0 du module turtle)\n"
   ]
  },
  {
   "cell_type": "code",
   "execution_count": 3,
   "metadata": {},
   "outputs": [
    {
     "ename": "UnboundLocalError",
     "evalue": "local variable 'first' referenced before assignment",
     "output_type": "error",
     "traceback": [
      "\u001b[0;31m---------------------------------------------------------------------------\u001b[0m",
      "\u001b[0;31mUnboundLocalError\u001b[0m                         Traceback (most recent call last)",
      "\u001b[0;32m<ipython-input-3-8e029775e12f>\u001b[0m in \u001b[0;36m<module>\u001b[0;34m\u001b[0m\n\u001b[1;32m     51\u001b[0m     \u001b[0mHaswon\u001b[0m \u001b[0;34m=\u001b[0m \u001b[0mSetWinner\u001b[0m\u001b[0;34m(\u001b[0m\u001b[0mDistance_Leonardo\u001b[0m\u001b[0;34m,\u001b[0m \u001b[0;34m\"Leonardo\"\u001b[0m\u001b[0;34m)\u001b[0m\u001b[0;34m\u001b[0m\u001b[0;34m\u001b[0m\u001b[0m\n\u001b[1;32m     52\u001b[0m     \u001b[0mHaswon\u001b[0m \u001b[0;34m=\u001b[0m \u001b[0mSetWinner\u001b[0m\u001b[0;34m(\u001b[0m\u001b[0mDistance_Raphael\u001b[0m\u001b[0;34m,\u001b[0m \u001b[0;34m\"Raphael\"\u001b[0m\u001b[0;34m)\u001b[0m\u001b[0;34m\u001b[0m\u001b[0;34m\u001b[0m\u001b[0m\n\u001b[0;32m---> 53\u001b[0;31m     \u001b[0mHaswon\u001b[0m \u001b[0;34m=\u001b[0m \u001b[0mSetWinner\u001b[0m\u001b[0;34m(\u001b[0m\u001b[0mDistance_Splinter\u001b[0m\u001b[0;34m,\u001b[0m \u001b[0;34m\"Splinter\"\u001b[0m\u001b[0;34m)\u001b[0m\u001b[0;34m\u001b[0m\u001b[0;34m\u001b[0m\u001b[0m\n\u001b[0m\u001b[1;32m     54\u001b[0m     \u001b[0mHaswon\u001b[0m \u001b[0;34m=\u001b[0m \u001b[0mSetWinner\u001b[0m\u001b[0;34m(\u001b[0m\u001b[0mDistance_Donatello\u001b[0m\u001b[0;34m,\u001b[0m \u001b[0;34m\"Donatello\"\u001b[0m\u001b[0;34m)\u001b[0m\u001b[0;34m\u001b[0m\u001b[0;34m\u001b[0m\u001b[0m\n\u001b[1;32m     55\u001b[0m \u001b[0;34m\u001b[0m\u001b[0m\n",
      "\u001b[0;32m<ipython-input-3-8e029775e12f>\u001b[0m in \u001b[0;36mSetWinner\u001b[0;34m(dist, name)\u001b[0m\n\u001b[1;32m     17\u001b[0m \u001b[0;32mdef\u001b[0m \u001b[0mSetWinner\u001b[0m\u001b[0;34m(\u001b[0m\u001b[0mdist\u001b[0m\u001b[0;34m,\u001b[0m \u001b[0mname\u001b[0m\u001b[0;34m)\u001b[0m\u001b[0;34m:\u001b[0m\u001b[0;34m\u001b[0m\u001b[0;34m\u001b[0m\u001b[0m\n\u001b[1;32m     18\u001b[0m     \u001b[0;32mif\u001b[0m \u001b[0;34m(\u001b[0m\u001b[0mdist\u001b[0m \u001b[0;34m>=\u001b[0m \u001b[0;36m1380\u001b[0m\u001b[0;34m)\u001b[0m\u001b[0;34m:\u001b[0m\u001b[0;34m\u001b[0m\u001b[0;34m\u001b[0m\u001b[0m\n\u001b[0;32m---> 19\u001b[0;31m         \u001b[0;32mreturn\u001b[0m \u001b[0msetPosition\u001b[0m\u001b[0;34m(\u001b[0m\u001b[0mname\u001b[0m\u001b[0;34m)\u001b[0m\u001b[0;34m\u001b[0m\u001b[0;34m\u001b[0m\u001b[0m\n\u001b[0m\u001b[1;32m     20\u001b[0m     \u001b[0;32mreturn\u001b[0m \u001b[0;32mTrue\u001b[0m\u001b[0;34m\u001b[0m\u001b[0;34m\u001b[0m\u001b[0m\n\u001b[1;32m     21\u001b[0m \u001b[0;34m\u001b[0m\u001b[0m\n",
      "\u001b[0;32m<ipython-input-3-8e029775e12f>\u001b[0m in \u001b[0;36msetPosition\u001b[0;34m(name)\u001b[0m\n\u001b[1;32m     23\u001b[0m \u001b[0;34m\u001b[0m\u001b[0m\n\u001b[1;32m     24\u001b[0m \u001b[0;32mdef\u001b[0m \u001b[0msetPosition\u001b[0m\u001b[0;34m(\u001b[0m\u001b[0mname\u001b[0m\u001b[0;34m)\u001b[0m\u001b[0;34m:\u001b[0m\u001b[0;34m\u001b[0m\u001b[0;34m\u001b[0m\u001b[0m\n\u001b[0;32m---> 25\u001b[0;31m     \u001b[0;32mif\u001b[0m \u001b[0;34m(\u001b[0m\u001b[0mfirst\u001b[0m \u001b[0;34m==\u001b[0m \u001b[0;34m\"\"\u001b[0m\u001b[0;34m)\u001b[0m\u001b[0;34m:\u001b[0m\u001b[0;34m\u001b[0m\u001b[0;34m\u001b[0m\u001b[0m\n\u001b[0m\u001b[1;32m     26\u001b[0m         \u001b[0mfirst\u001b[0m \u001b[0;34m=\u001b[0m \u001b[0mname\u001b[0m\u001b[0;34m\u001b[0m\u001b[0;34m\u001b[0m\u001b[0m\n\u001b[1;32m     27\u001b[0m     \u001b[0;32melif\u001b[0m \u001b[0;34m(\u001b[0m\u001b[0msecond\u001b[0m \u001b[0;34m==\u001b[0m \u001b[0;34m\"\"\u001b[0m\u001b[0;34m)\u001b[0m\u001b[0;34m:\u001b[0m\u001b[0;34m\u001b[0m\u001b[0;34m\u001b[0m\u001b[0m\n",
      "\u001b[0;31mUnboundLocalError\u001b[0m: local variable 'first' referenced before assignment"
     ]
    }
   ],
   "source": [
    "\n",
    "Distance_Michelangelo = 0\n",
    "Distance_Leonardo = 0\n",
    "Distance_Raphael = 0\n",
    "Distance_Splinter = 0\n",
    "Distance_Donatello = 0\n",
    "Haswon = True\n",
    "first = \"\"\n",
    "second = \"\"\n",
    "third = \"\"\n",
    "fourth = \"\"\n",
    "fith = \"\"\n",
    "\n",
    "def moveTurtle(tu,n):\n",
    "    tu.forward(n)\n",
    "    return n\n",
    "\n",
    "def SetWinner(dist, name):\n",
    "    if (dist >= 1380):\n",
    "        return setPosition(name)\n",
    "    return True\n",
    "\n",
    "def setPosition(name):\n",
    "    if (first == \"\"):\n",
    "        first = name\n",
    "    elif (second == \"\"):\n",
    "        second = name\n",
    "    elif (third == \"\"):\n",
    "        third = name\n",
    "    elif (fourth == \"\"):\n",
    "        fourth = name\n",
    "    elif (fith == \"\"):\n",
    "        fith = name\n",
    "        return False\n",
    "    return True\n",
    "\n",
    "while Haswon:\n",
    "    n = randint(1,5)\n",
    "    Distance_Michelangelo += moveTurtle(Michelangelo, n)\n",
    "    n = randint(1,5)\n",
    "    Distance_Leonardo += moveTurtle(Leonardo, n)\n",
    "    n = randint(1,5)\n",
    "    Distance_Raphael += moveTurtle(Raphael, n)\n",
    "    n = randint(1,5)\n",
    "    Distance_Splinter += moveTurtle(Splinter, n)\n",
    "    n = randint(1,5)\n",
    "    Distance_Donatello += moveTurtle(Donatello, n)\n",
    "    \n",
    "    Haswon = SetWinner(Distance_Michelangelo, \"Michelangelo\")\n",
    "    Haswon = SetWinner(Distance_Leonardo, \"Leonardo\")\n",
    "    Haswon = SetWinner(Distance_Raphael, \"Raphael\")\n",
    "    Haswon = SetWinner(Distance_Splinter, \"Splinter\")\n",
    "    Haswon = SetWinner(Distance_Donatello, \"Donatello\")\n",
    "    \n",
    "\n",
    "\n",
    "tu.done()\n"
   ]
  },
  {
   "cell_type": "markdown",
   "metadata": {},
   "source": [
    "## Comparer les résultats de la course avec les pronostics des joueurs et afficher le résultat de la course (position et nom des tortues) # et le joueur gagnant avec la tortue arbitre et l'instruction turtle.Write à la position 0,0"
   ]
  },
  {
   "cell_type": "code",
   "execution_count": null,
   "metadata": {},
   "outputs": [],
   "source": [
    "print(\"résultat : \")\n",
    "print(\"1: \"+first+\" \\n\")\n",
    "print(\"2: \"+second+\" \\n\")\n",
    "print(\"3: \"+firthirdst+\" \\n\")\n",
    "print(\"4: \"+fourth+\" \\n\")\n",
    "print(\"5: \"+fith+\" \\n\")\n",
    "\n",
    "# Il reste 30 minutes apres cet exercice. clairement pas assez pour le reste des exos\n",
    "# vu à la fin le kit d'aide dans les dossiers d'exercices egalement. Je demande mes points bonus Bien mérités !! :D\n"
   ]
  },
  {
   "cell_type": "code",
   "execution_count": null,
   "metadata": {},
   "outputs": [],
   "source": []
  }
 ],
 "metadata": {
  "kernelspec": {
   "display_name": "Python 3",
   "language": "python",
   "name": "python3"
  },
  "language_info": {
   "codemirror_mode": {
    "name": "ipython",
    "version": 3
   },
   "file_extension": ".py",
   "mimetype": "text/x-python",
   "name": "python",
   "nbconvert_exporter": "python",
   "pygments_lexer": "ipython3",
   "version": "3.7.4"
  }
 },
 "nbformat": 4,
 "nbformat_minor": 2
}
