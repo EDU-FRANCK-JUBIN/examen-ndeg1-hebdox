{
 "cells": [
  {
   "cell_type": "code",
   "execution_count": 2,
   "metadata": {},
   "outputs": [
    {
     "name": "stdout",
     "output_type": "stream",
     "text": [
      "Requirement already satisfied: pyDatalog in /home/ebdo/anaconda3/lib/python3.7/site-packages (0.17.1)\r\n"
     ]
    }
   ],
   "source": [
    "# only run once if needed : \n",
    "!pip install pyDatalog"
   ]
  },
  {
   "cell_type": "code",
   "execution_count": 46,
   "metadata": {},
   "outputs": [],
   "source": [
    "from pyDatalog import pyDatalog as D\n",
    "\n",
    "pyDatalog.clear()"
   ]
  },
  {
   "cell_type": "code",
   "execution_count": 73,
   "metadata": {},
   "outputs": [],
   "source": [
    "pyDatalog.create_terms('X, Y, triangle, nb_cote, nb_angles, triangle_rect, nb_angles_droit, nb_angles_egaux,'+\n",
    "                       'triangle_iso, nb_cote_egaux, triangle_equi, t1, t2, t3, z')"
   ]
  },
  {
   "cell_type": "code",
   "execution_count": 100,
   "metadata": {},
   "outputs": [
    {
     "data": {
      "text/plain": [
       "triangle_equi(X) <= nb_angles_egaux(X,Y)&==(Y,'3')"
      ]
     },
     "execution_count": 100,
     "metadata": {},
     "output_type": "execute_result"
    }
   ],
   "source": [
    "triangle(X) <= nb_cote(X,Y) & (Y==3)\n",
    "triangle(X) <= nb_angles(X,Y) &  (Y==3)\n",
    "triangle_rect(X) <= nb_angles_droit(X,Y) &  (Y==1)\n",
    "triangle_iso(X) <= nb_angles_egaux(X,Y) &  (Y==2)\n",
    "triangle_iso(X) <= nb_cote_egaux(X,Y) &  (Y==2)\n",
    "triangle_equi(X) <= nb_cote_egaux(X,Y) &  (Y==3)\n",
    "triangle_equi(X) <= nb_angles_egaux(X,Y) &  (Y==3)\n"
   ]
  },
  {
   "cell_type": "code",
   "execution_count": 101,
   "metadata": {},
   "outputs": [],
   "source": [
    "#debug use\n",
    "+nb_angles(z,0)\n",
    "# z est un triangle ! :'( \n",
    "\n",
    "\n",
    "\n",
    "+triangle(t1)\n",
    "+triangle(t2)\n",
    "+nb_cote(t3,3)\n",
    "\n",
    "+nb_angles_droit(t1, 1)\n",
    "+nb_angles_egaux(t2,2)\n",
    "+nb_cote_egaux(t3,3)\n",
    "\n",
    "# t2 n'est pas equi ! :(\n"
   ]
  },
  {
   "cell_type": "code",
   "execution_count": 102,
   "metadata": {},
   "outputs": [
    {
     "name": "stdout",
     "output_type": "stream",
     "text": [
      "{('t1',), ('t2',), ('z',), ('t3',)}\n",
      "{('t2',)}\n",
      "{('t1',)}\n",
      "{('t2',), ('t3',)}\n"
     ]
    }
   ],
   "source": [
    "# assert :\n",
    "print(D.ask('triangle(A)'))\n",
    "print(D.ask('triangle_iso(B)'))\n",
    "print(D.ask('triangle_rect(C)'))\n",
    "print(D.ask('triangle_equi(D)'))\n",
    "\n"
   ]
  },
  {
   "cell_type": "code",
   "execution_count": null,
   "metadata": {},
   "outputs": [],
   "source": []
  }
 ],
 "metadata": {
  "kernelspec": {
   "display_name": "Python 3",
   "language": "python",
   "name": "python3"
  },
  "language_info": {
   "codemirror_mode": {
    "name": "ipython",
    "version": 3
   },
   "file_extension": ".py",
   "mimetype": "text/x-python",
   "name": "python",
   "nbconvert_exporter": "python",
   "pygments_lexer": "ipython3",
   "version": "3.7.4"
  }
 },
 "nbformat": 4,
 "nbformat_minor": 2
}
