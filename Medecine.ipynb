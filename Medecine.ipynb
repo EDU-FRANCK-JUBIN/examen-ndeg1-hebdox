{
 "cells": [
  {
   "cell_type": "code",
   "execution_count": 5,
   "metadata": {},
   "outputs": [
    {
     "name": "stdout",
     "output_type": "stream",
     "text": [
      "Requirement already satisfied: pyDatalog in /home/ebdo/anaconda3/lib/python3.7/site-packages (0.17.1)\r\n"
     ]
    }
   ],
   "source": [
    "# only run once if needed : \n",
    "!pip install pyDatalog"
   ]
  },
  {
   "cell_type": "code",
   "execution_count": 5,
   "metadata": {},
   "outputs": [],
   "source": [
    "from pyDatalog import pyDatalog as D\n",
    "\n",
    "D.clear()"
   ]
  },
  {
   "cell_type": "code",
   "execution_count": 22,
   "metadata": {},
   "outputs": [],
   "source": [
    "D.create_terms('G001, G002, G003, G004, G005, G006, G007, G008, G009, G010, '+\n",
    "                'G011, G012, G013, G014, G015, G016, G017, G018, G019, G020, G021, G022, G023, '+\n",
    "                   'P1, P2, P3, P4, P5, P6, P7, P8, X, '+\n",
    "                   'bléatrice, charlesazion, mr_Ino_Perable, clark_keraint, saint')"
   ]
  },
  {
   "cell_type": "code",
   "execution_count": 23,
   "metadata": {},
   "outputs": [
    {
     "data": {
      "text/plain": [
       "P8(X) <= G001(X)&G010(X)&G019(X)&G022(X)&G023(X)"
      ]
     },
     "execution_count": 23,
     "metadata": {},
     "output_type": "execute_result"
    }
   ],
   "source": [
    "P1(X) <= G001(X) & G002(X) & G003(X) & G004(X)\n",
    "P2(X) <= G001(X) & G002(X) & G005(X) & G006(X)\n",
    "P3(X) <= G007(X) & G008(X)\n",
    "P4(X) <= G009(X) & G010(X) & G011(X) & G012(X)\n",
    "P5(X) <= G013(X) & G014(X) & G015(X) & G016(X)\n",
    "\n",
    "P6(X) <= G010(X) & G015(X) & G016(X) & G017(X) & G018(X) & G019(X)\n",
    "P7(X) <= G010(X) & G019(X) & G020(X) & G021(X)\n",
    "P8(X) <= G001(X) & G010(X) & G019(X) & G022(X) & G023(X)\n",
    "\n",
    "\n"
   ]
  },
  {
   "cell_type": "code",
   "execution_count": 24,
   "metadata": {},
   "outputs": [],
   "source": [
    "+G001(bléatrice)\n",
    "+G002(bléatrice)\n",
    "+G003(bléatrice)\n",
    "+G004(bléatrice)\n",
    "\n",
    "+G007(charlesazion)\n",
    "+G008(charlesazion)\n",
    "\n",
    "+G010(clark_keraint)\n",
    "+G015(clark_keraint)\n",
    "+G016(clark_keraint)\n",
    "+G017(clark_keraint)\n",
    "+G018(clark_keraint)\n",
    "+G019(clark_keraint)\n",
    "\n",
    "+G001(mr_Ino_Perable)\n",
    "+G002(mr_Ino_Perable)\n",
    "+G003(mr_Ino_Perable)\n",
    "+G004(mr_Ino_Perable)\n",
    "+G005(mr_Ino_Perable)\n",
    "+G006(mr_Ino_Perable)\n",
    "+G007(mr_Ino_Perable)\n",
    "+G008(mr_Ino_Perable)\n",
    "+G009(mr_Ino_Perable)\n",
    "+G010(mr_Ino_Perable)\n",
    "+G011(mr_Ino_Perable)\n",
    "+G012(mr_Ino_Perable)\n",
    "+G013(mr_Ino_Perable)\n",
    "+G014(mr_Ino_Perable)\n",
    "+G015(mr_Ino_Perable)\n",
    "+G016(mr_Ino_Perable)\n",
    "+G017(mr_Ino_Perable)\n",
    "+G018(mr_Ino_Perable)\n",
    "+G019(mr_Ino_Perable)\n",
    "+G020(mr_Ino_Perable)\n",
    "+G021(mr_Ino_Perable)\n",
    "+G022(mr_Ino_Perable)\n",
    "+G023(mr_Ino_Perable)\n",
    "\n"
   ]
  },
  {
   "cell_type": "code",
   "execution_count": 33,
   "metadata": {},
   "outputs": [
    {
     "name": "stdout",
     "output_type": "stream",
     "text": [
      "Blépharite :\n",
      "{('mr_Ino_Perable',), ('bléatrice',)}\n",
      "----------------\n",
      "Chalazion :\n",
      "{('mr_Ino_Perable',), ('charlesazion',)}\n",
      "----------------\n",
      "Kératite :\n",
      "{('mr_Ino_Perable',), ('clark_keraint',)}\n",
      "----------------\n",
      "Endophtalmie :\n",
      "{('mr_Ino_Perable',)}\n"
     ]
    }
   ],
   "source": [
    "\n",
    "print('Blépharite :')\n",
    "print(D.ask('P1(A)'))\n",
    "\n",
    "print('----------------')\n",
    "print('Chalazion :')\n",
    "print(D.ask('P3(A)'))\n",
    "print('----------------')\n",
    "print('Kératite :')\n",
    "print(D.ask('P6(A)'))\n",
    "\n",
    "print('----------------')\n",
    "print('Endophtalmie :')\n",
    "print(D.ask('P8(A)'))\n",
    "\n"
   ]
  },
  {
   "cell_type": "code",
   "execution_count": null,
   "metadata": {},
   "outputs": [],
   "source": []
  }
 ],
 "metadata": {
  "kernelspec": {
   "display_name": "Python 3",
   "language": "python",
   "name": "python3"
  },
  "language_info": {
   "codemirror_mode": {
    "name": "ipython",
    "version": 3
   },
   "file_extension": ".py",
   "mimetype": "text/x-python",
   "name": "python",
   "nbconvert_exporter": "python",
   "pygments_lexer": "ipython3",
   "version": "3.7.4"
  }
 },
 "nbformat": 4,
 "nbformat_minor": 2
}
