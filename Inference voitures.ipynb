{
 "cells": [
  {
   "cell_type": "code",
   "execution_count": null,
   "metadata": {},
   "outputs": [],
   "source": []
  },
  {
   "cell_type": "code",
   "execution_count": 1,
   "metadata": {},
   "outputs": [],
   "source": [
    "from pyDatalog import pyDatalog\n",
    "\n",
    "pyDatalog.clear()\n"
   ]
  },
  {
   "cell_type": "code",
   "execution_count": 2,
   "metadata": {},
   "outputs": [],
   "source": [
    "pyDatalog.create_terms('bleu, jaune, rouge, verte, violette, place, Y, Z')"
   ]
  },
  {
   "cell_type": "code",
   "execution_count": 7,
   "metadata": {},
   "outputs": [
    {
     "data": {
      "text/plain": [
       "place('rouge') <= place('rouge',Y)&place('jaune',Z"
      ]
     },
     "execution_count": 7,
     "metadata": {},
     "output_type": "execute_result"
    }
   ],
   "source": [
    "# verte(Place) <= verte(Place,Y) & (Y> bleu(Place) )\n",
    "\n",
    "\n",
    "place(verte) <= place(verte,Y) & place(bleu, Z) & (Z < Y) & (Y<1)\n",
    "place(bleu) <= place(bleu,Y) & place(jaune, Z) & (Y-2 == Z) or (Y+2 == Z) # to check\n",
    "place(rouge) <= place(rouge,Y) & place(violette, Z) & (Y>Z) & (Y-2==Z) #idem\n",
    "#jaune et rouge ne se souvent pas\n",
    "place(rouge) <= place(rouge,Y) & place(jaune, Z) & (Y+1 != Z) or (Y-1!=Z) #idem"
   ]
  },
  {
   "cell_type": "code",
   "execution_count": null,
   "metadata": {},
   "outputs": [],
   "source": []
  }
 ],
 "metadata": {
  "kernelspec": {
   "display_name": "Python 3",
   "language": "python",
   "name": "python3"
  },
  "language_info": {
   "codemirror_mode": {
    "name": "ipython",
    "version": 3
   },
   "file_extension": ".py",
   "mimetype": "text/x-python",
   "name": "python",
   "nbconvert_exporter": "python",
   "pygments_lexer": "ipython3",
   "version": "3.7.4"
  }
 },
 "nbformat": 4,
 "nbformat_minor": 2
}
